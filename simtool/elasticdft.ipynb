{
 "cells": [
  {
   "cell_type": "code",
   "execution_count": null,
   "metadata": {
    "tags": [
     "DESCRIPTION"
    ]
   },
   "outputs": [],
   "source": [
    "DESCRIPTION = \"\"\"Using quantum espresso to compute the stresses associated with different strain states and fitting the elastic tensor.\"\"\""
   ]
  },
  {
   "cell_type": "code",
   "execution_count": null,
   "metadata": {},
   "outputs": [],
   "source": [
    "# Import libraries\n",
    "import numpy as np\n",
    "from mp_api.client import MPRester\n",
    "from pymatgen.io.pwscf import PWInput\n",
    "from pymatgen.core import Structure\n",
    "from pymatgen.analysis.elasticity import *\n",
    "from pymatgen.io.vasp.inputs import *\n",
    "from pymatgen.symmetry.analyzer import SpacegroupAnalyzer\n",
    "import os\n",
    "\n",
    "from simtool import getValidatedInputs, DB"
   ]
  },
  {
   "cell_type": "code",
   "execution_count": null,
   "metadata": {},
   "outputs": [],
   "source": [
    "%load_ext yamlmagic"
   ]
  },
  {
   "cell_type": "code",
   "execution_count": null,
   "metadata": {},
   "outputs": [],
   "source": [
    "%%yaml INPUTS\n",
    "\n",
    "mp_id:\n",
    "    type: Text\n",
    "    description: Materials Project ID for chosen structure\n",
    "        \n",
    "structure_dict:\n",
    "    type: Dict\n",
    "    description: Pymatgen structure object saved as dictionary\n",
    "\n",
    "num_atoms:\n",
    "    type: Integer\n",
    "    description: Total number of atoms in the simulation cell\n",
    "    min: 0\n",
    "    max: 200\n",
    "        \n",
    "n_atom_types:\n",
    "    type: Integer\n",
    "    description: Number of elements in compostion. Examples Si - 1, TiN - 2, BaZrO3 - 3\n",
    "        \n",
    "space_group:\n",
    "    type: Integer\n",
    "    description: Space group number, i.e. 225\n",
    "    value: 0\n",
    "    min: 0\n",
    "    max: 230\n",
    "        \n",
    "is_metal:\n",
    "    type: Boolean\n",
    "    description: Is the system considered assumed to be metallic or not. Used to include occupation information for the QE calculations.\n",
    "    value: False\n",
    "        \n",
    "KE_cutoff:\n",
    "    type: Number\n",
    "    description: Kinetic energy cutoff (Ry)\n",
    "    value: 50\n",
    "    min: 10\n",
    "    max: 300\n",
    "    units: rydberg\n",
    "        \n",
    "k_x:\n",
    "    type: Integer\n",
    "    description: Number of k-points in x direction\n",
    "    value: 1\n",
    "    min: 1\n",
    "    max: 30\n",
    "\n",
    "k_y:\n",
    "    type: Integer\n",
    "    description: Number of k-points in y direction\n",
    "    value: 1\n",
    "    min: 1\n",
    "    max: 30\n",
    "    \n",
    "k_z:\n",
    "    type: Integer\n",
    "    description: Number of k-points in z direction\n",
    "    value: 1\n",
    "    min: 1\n",
    "    max: 30\n",
    "        \n",
    "i_steps:\n",
    "    type: Integer\n",
    "    description: Maximum number of ionic steps during relaxation\n",
    "    value: 50\n",
    "    \n",
    "e_steps:\n",
    "    type: Integer\n",
    "    description: Maximum number of electronic steps during SCF calculation\n",
    "    value: 100\n",
    "    min: 100\n",
    "    max: 1000\n",
    "        \n",
    "scf_conv:\n",
    "    type: Number\n",
    "    description: Convergence threshold for selfconsistency\n",
    "    value: 1e-10\n",
    "        \n",
    "energy_conv:\n",
    "    type: Number\n",
    "    description: Convergence threshold on total energy for ionic minimization\n",
    "    value: 1e-10\n",
    "    min: 1e-15\n",
    "    max: 1e-4\n",
    "        \n",
    "force_conv:\n",
    "    type: Number\n",
    "    description: Convergence threshold on forces for ionic minimization \n",
    "    value: 1e-5\n",
    "    min: 1e-8\n",
    "    max: 1e-3\n",
    "        \n",
    "vdw_corr:\n",
    "    type: Choice\n",
    "    description: Type of vdw correction. Options are 'grimme-d2', 'grimme-d3', or 'none'.\n",
    "    options: ['grimme-d2','grimme-d3','none']\n",
    "    value: 'none'\n",
    "        \n",
    "spin_polar:\n",
    "    type: Boolean\n",
    "    description: This parameter controls whether a spin-polarized calculation is run. False for non-polarized and True for spin-polarized, LSDA (magnetization along z axis)\n",
    "    value: False\n",
    "        \n",
    "hubbard_U_on:\n",
    "    type: Boolean\n",
    "    description: This parameter controls whether a the Hubbard U correction is added to the calculation to account for localized d or f electrons that are not well described by standard DFT. False for no Hubbard U correction and True for adding the Hubbard U correction\n",
    "    value: False\n",
    "        \n",
    "hubbard_projector:\n",
    "    type: Choice\n",
    "    description: This will determine the type of Hubbard projector used in the calculation. Options are 'atomic', 'ortho-atomic', 'norm-atomic', 'wf', or 'pseudo'. If the hubbard_U_on input is set to False this input is ignored when creating the QE input file. It is highly recommended to use ortho-atomic or atomic whenever possbile.\n",
    "    options: ['atomic','ortho-atomic','norm-atomic','wf','pseudo']\n",
    "    value: 'ortho-atomic'\n",
    "        \n",
    "hubbard_U_values:\n",
    "    type: Dict\n",
    "    description: This is a dictionary that will have the value for the U parameter in eV for each atomic species. \n",
    "    \n",
    "hubbard_U_orbitals:\n",
    "    type: Dict\n",
    "    description: This is a dictionary that will have the orbitals that the U parameter is acting on for each atomic species.\n",
    "\n",
    "pseudo:\n",
    "    type: Choice\n",
    "    description: Controls the type of pseudopotential used for the calculation\n",
    "    options: ['PAW','USPP']\n",
    "    value: 'PAW'\n",
    "        \n",
    "strain_matrices:\n",
    "    type: List\n",
    "    description: List containing the pymatgen Strain objects that will be used to generate the deformed structures and fit the elastic tensor"
   ]
  },
  {
   "cell_type": "code",
   "execution_count": null,
   "metadata": {
    "tags": [
     "parameters"
    ]
   },
   "outputs": [],
   "source": [
    "defaultInputs = getValidatedInputs(INPUTS)\n",
    "if defaultInputs:\n",
    "    globals().update(defaultInputs)"
   ]
  },
  {
   "cell_type": "code",
   "execution_count": null,
   "metadata": {
    "tags": [
     "FILES"
    ]
   },
   "outputs": [],
   "source": [
    "EXTRA_FILES = ['pseudo']"
   ]
  },
  {
   "cell_type": "code",
   "execution_count": null,
   "metadata": {},
   "outputs": [],
   "source": [
    "%%yaml OUTPUTS\n",
    "\n",
    "deformed_structures:\n",
    "    type: List\n",
    "    description: List of pymatgen Structure objects that were generated by the applying strains to the pristine structure\n",
    "        \n",
    "stress_tensors:\n",
    "    type: List\n",
    "    description: List of pymatgen Stress objects that were computed by quantum espresso for each deformed structure and used in the fit for the elastic tensor\n",
    "    \n",
    "elastic_tensor:\n",
    "    type: Array\n",
    "    description: Elastic tensor fit with pymatgen using the Moore-Penrose pseudo-inverse method"
   ]
  },
  {
   "cell_type": "code",
   "execution_count": null,
   "metadata": {},
   "outputs": [],
   "source": [
    "textOutput = textInput"
   ]
  },
  {
   "cell_type": "code",
   "execution_count": null,
   "metadata": {},
   "outputs": [],
   "source": [
    "db = DB(OUTPUTS)"
   ]
  },
  {
   "cell_type": "code",
   "execution_count": null,
   "metadata": {},
   "outputs": [],
   "source": [
    "db.save('textOutput', textOutput)"
   ]
  }
 ],
 "metadata": {
  "celltoolbar": "Tags",
  "kernelspec": {
   "display_name": "Python 3.8",
   "language": "python",
   "name": "python3"
  },
  "language_info": {
   "codemirror_mode": {
    "name": "ipython",
    "version": 3
   },
   "file_extension": ".py",
   "mimetype": "text/x-python",
   "name": "python",
   "nbconvert_exporter": "python",
   "pygments_lexer": "ipython3",
   "version": "3.8.10"
  },
  "toc": {
   "base_numbering": 1,
   "nav_menu": {},
   "number_sections": true,
   "sideBar": true,
   "skip_h1_title": false,
   "title_cell": "Table of Contents",
   "title_sidebar": "Contents",
   "toc_cell": false,
   "toc_position": {},
   "toc_section_display": true,
   "toc_window_display": false
  },
  "varInspector": {
   "cols": {
    "lenName": 16,
    "lenType": 16,
    "lenVar": 40
   },
   "kernels_config": {
    "python": {
     "delete_cmd_postfix": "",
     "delete_cmd_prefix": "del ",
     "library": "var_list.py",
     "varRefreshCmd": "print(var_dic_list())"
    },
    "r": {
     "delete_cmd_postfix": ") ",
     "delete_cmd_prefix": "rm(",
     "library": "var_list.r",
     "varRefreshCmd": "cat(var_dic_list()) "
    }
   },
   "types_to_exclude": [
    "module",
    "function",
    "builtin_function_or_method",
    "instance",
    "_Feature"
   ],
   "window_display": false
  }
 },
 "nbformat": 4,
 "nbformat_minor": 2
}
