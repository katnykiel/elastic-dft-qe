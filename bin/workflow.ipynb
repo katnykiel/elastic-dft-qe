{
 "cells": [
  {
   "cell_type": "code",
   "execution_count": null,
   "id": "669af077",
   "metadata": {
    "ExecuteTime": {
     "end_time": "2024-03-11T05:21:57.262239Z",
     "start_time": "2024-03-11T05:21:43.275189Z"
    }
   },
   "outputs": [],
   "source": [
    "# Import libraries\n",
    "import numpy as np\n",
    "from mp_api.client import MPRester\n",
    "from pymatgen.io.pwscf import PWInput\n",
    "from pymatgen.core import Structure\n",
    "from pymatgen.analysis.elasticity import *\n",
    "from pymatgen.io.vasp.inputs import *\n",
    "from pymatgen.symmetry.analyzer import SpacegroupAnalyzer\n",
    "import os\n",
    "\n",
    "\n",
    "# Import simtool libraries\n",
    "from simtool import findInstalledSimToolNotebooks,searchForSimTool\n",
    "from simtool import getSimToolInputs,getSimToolOutputs,Run\n",
    "\n",
    "# Import helper functions\n",
    "from qe_functions import *"
   ]
  },
  {
   "cell_type": "code",
   "execution_count": null,
   "id": "720f0ead",
   "metadata": {
    "ExecuteTime": {
     "end_time": "2024-03-11T05:21:57.269348Z",
     "start_time": "2024-03-11T05:21:57.265232Z"
    }
   },
   "outputs": [],
   "source": [
    "simToolName = \"elasticdft\"\n",
    "simToolLocation = searchForSimTool(simToolName)\n",
    "for key in simToolLocation.keys():\n",
    "    print(\"%18s = %s\" % (key,simToolLocation[key]))"
   ]
  },
  {
   "cell_type": "code",
   "execution_count": null,
   "id": "3f0d0045",
   "metadata": {
    "ExecuteTime": {
     "end_time": "2024-03-11T05:21:57.276989Z",
     "start_time": "2024-03-11T05:21:57.272878Z"
    }
   },
   "outputs": [],
   "source": [
    "installedSimToolNotebooks = findInstalledSimToolNotebooks(simToolName,returnString=True)\n",
    "print(installedSimToolNotebooks)"
   ]
  },
  {
   "cell_type": "code",
   "execution_count": null,
   "id": "26df55c0",
   "metadata": {
    "ExecuteTime": {
     "end_time": "2024-03-11T05:21:57.337896Z",
     "start_time": "2024-03-11T05:21:57.279630Z"
    }
   },
   "outputs": [],
   "source": [
    "# get the list of inputs\n",
    "inputs = getSimToolInputs(simToolLocation)\n",
    "print(inputs)"
   ]
  },
  {
   "cell_type": "code",
   "execution_count": null,
   "id": "19ea34cd",
   "metadata": {
    "ExecuteTime": {
     "end_time": "2024-03-11T05:21:57.369618Z",
     "start_time": "2024-03-11T05:21:57.340052Z"
    }
   },
   "outputs": [],
   "source": [
    "# get the list of outputs\n",
    "outputs = getSimToolOutputs(simToolLocation)\n",
    "print(outputs)"
   ]
  },
  {
   "cell_type": "code",
   "execution_count": null,
   "id": "5a033082",
   "metadata": {
    "ExecuteTime": {
     "end_time": "2024-03-11T05:21:57.373873Z",
     "start_time": "2024-03-11T05:21:57.371684Z"
    }
   },
   "outputs": [],
   "source": [
    "mp_id = \"mp-8062\"\n",
    "squid_id = \"cellrelaxdft/r58/b7599a4fad2901a212dd6c1eca867731ed105075\""
   ]
  },
  {
   "cell_type": "code",
   "execution_count": null,
   "id": "033cc641",
   "metadata": {
    "ExecuteTime": {
     "end_time": "2024-03-11T05:21:57.380348Z",
     "start_time": "2024-03-11T05:21:57.376029Z"
    }
   },
   "outputs": [],
   "source": [
    "strains = [-0.01,-0.005,0.005,0.01]\n",
    "shears = [-0.02,-0.01,0.01,0.02]"
   ]
  },
  {
   "cell_type": "code",
   "execution_count": null,
   "id": "b09d9581",
   "metadata": {
    "ExecuteTime": {
     "end_time": "2024-03-11T05:21:57.387672Z",
     "start_time": "2024-03-11T05:21:57.384680Z"
    }
   },
   "outputs": [],
   "source": [
    "inputs['mp_id'].value = mp_id\n",
    "inputs['squid_id'].value = squid_id\n",
    "inputs['strains'].value = strains\n",
    "inputs['shears'].value = shears"
   ]
  },
  {
   "cell_type": "code",
   "execution_count": null,
   "id": "5393ec25",
   "metadata": {
    "ExecuteTime": {
     "end_time": "2024-03-11T05:21:57.398396Z",
     "start_time": "2024-03-11T05:21:57.390764Z"
    }
   },
   "outputs": [],
   "source": [
    "inputs"
   ]
  },
  {
   "cell_type": "code",
   "execution_count": null,
   "id": "e7c0a752",
   "metadata": {
    "ExecuteTime": {
     "start_time": "2024-03-11T05:21:43.889Z"
    }
   },
   "outputs": [],
   "source": [
    "r = Run(simToolLocation,inputs)"
   ]
  },
  {
   "cell_type": "code",
   "execution_count": null,
   "id": "fe59c5b3",
   "metadata": {
    "ExecuteTime": {
     "start_time": "2024-03-11T05:21:43.892Z"
    }
   },
   "outputs": [],
   "source": [
    "r.getResultSummary()"
   ]
  },
  {
   "cell_type": "code",
   "execution_count": null,
   "id": "973a93af",
   "metadata": {},
   "outputs": [],
   "source": []
  }
 ],
 "metadata": {
  "kernelspec": {
   "display_name": "Python3 (MatProject)",
   "language": "python",
   "name": "matproject"
  },
  "language_info": {
   "codemirror_mode": {
    "name": "ipython",
    "version": 3
   },
   "file_extension": ".py",
   "mimetype": "text/x-python",
   "name": "python",
   "nbconvert_exporter": "python",
   "pygments_lexer": "ipython3",
   "version": "3.9.18"
  },
  "toc": {
   "base_numbering": 1,
   "nav_menu": {},
   "number_sections": true,
   "sideBar": true,
   "skip_h1_title": false,
   "title_cell": "Table of Contents",
   "title_sidebar": "Contents",
   "toc_cell": false,
   "toc_position": {},
   "toc_section_display": true,
   "toc_window_display": false
  },
  "varInspector": {
   "cols": {
    "lenName": 16,
    "lenType": 16,
    "lenVar": 40
   },
   "kernels_config": {
    "python": {
     "delete_cmd_postfix": "",
     "delete_cmd_prefix": "del ",
     "library": "var_list.py",
     "varRefreshCmd": "print(var_dic_list())"
    },
    "r": {
     "delete_cmd_postfix": ") ",
     "delete_cmd_prefix": "rm(",
     "library": "var_list.r",
     "varRefreshCmd": "cat(var_dic_list()) "
    }
   },
   "types_to_exclude": [
    "module",
    "function",
    "builtin_function_or_method",
    "instance",
    "_Feature"
   ],
   "window_display": false
  }
 },
 "nbformat": 4,
 "nbformat_minor": 5
}
