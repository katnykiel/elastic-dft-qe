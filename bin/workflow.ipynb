{
 "cells": [
  {
   "cell_type": "markdown",
   "id": "8d9f4647",
   "metadata": {},
   "source": [
    "\n",
    "<span style=\"font-size:3em;\"> Elastic DFT</span>\n",
    "## Calculating Elastic Constants with Quantum Espresso\n",
    "Developed by Robert J. Appleton, Chukwuma Ezenwata, Ching-Chien Chen, Kat Nykiel, Saswat Mishra, and Alejandro Strachan\n",
    "\n",
    "## Integrating with Cell Relax DFT database\n",
    "In this tool we query relaxed structures from the Cell Relax DFT tool (see [here](https://nanohub.org/tools/cellrelaxdft)), perform deformations based on a set of strain/shear magnitudes, and then compute the corresponding stress tensor using density functional theory (DFT). The DFT code utilized in this tool is [Quantum Espresso](10.1088/0953-8984/21/39/395502) and the calculation parameters are adopted to match the level of theory and convergence criteria used in the relaxation. In order to run this tool on a material, there must exist a relaxation run in the Cell Relax DFT database. \n",
    "\n",
    "## Fitting the Elastic Tensor\n",
    "The elastic tensor is fit using the [pymatgen elasticity package](https://pymatgen.org/pymatgen.analysis.elasticity.html) and specifically the Moore-Penrose pseudo-inverse method.\n"
   ]
  },
  {
   "cell_type": "code",
   "execution_count": null,
   "id": "669af077",
   "metadata": {
    "ExecuteTime": {
     "end_time": "2025-03-05T14:12:34.303218Z",
     "start_time": "2025-03-05T14:12:31.752118Z"
    }
   },
   "outputs": [],
   "source": [
    "# Import simtool libraries\n",
    "from simtool import findInstalledSimToolNotebooks,searchForSimTool\n",
    "from simtool import getSimToolInputs,getSimToolOutputs,Run"
   ]
  },
  {
   "cell_type": "code",
   "execution_count": null,
   "id": "720f0ead",
   "metadata": {
    "ExecuteTime": {
     "end_time": "2025-03-05T14:12:35.226766Z",
     "start_time": "2025-03-05T14:12:35.222806Z"
    }
   },
   "outputs": [],
   "source": [
    "simToolName = \"elasticdft\"\n",
    "simToolLocation = searchForSimTool(simToolName)\n",
    "for key in simToolLocation.keys():\n",
    "    print(\"%18s = %s\" % (key,simToolLocation[key]))"
   ]
  },
  {
   "cell_type": "code",
   "execution_count": null,
   "id": "3f0d0045",
   "metadata": {
    "ExecuteTime": {
     "end_time": "2025-03-05T14:12:36.242376Z",
     "start_time": "2025-03-05T14:12:36.158114Z"
    }
   },
   "outputs": [],
   "source": [
    "installedSimToolNotebooks = findInstalledSimToolNotebooks(simToolName,returnString=True)\n",
    "print(installedSimToolNotebooks)"
   ]
  },
  {
   "cell_type": "code",
   "execution_count": null,
   "id": "26df55c0",
   "metadata": {
    "ExecuteTime": {
     "end_time": "2025-03-05T14:12:38.031160Z",
     "start_time": "2025-03-05T14:12:38.023740Z"
    }
   },
   "outputs": [],
   "source": [
    "# get the list of inputs\n",
    "inputs = getSimToolInputs(simToolLocation)\n",
    "print(inputs)"
   ]
  },
  {
   "cell_type": "code",
   "execution_count": null,
   "id": "19ea34cd",
   "metadata": {
    "ExecuteTime": {
     "end_time": "2025-03-05T14:12:39.983161Z",
     "start_time": "2025-03-05T14:12:39.959891Z"
    }
   },
   "outputs": [],
   "source": [
    "# get the list of outputs\n",
    "outputs = getSimToolOutputs(simToolLocation)\n",
    "print(outputs)"
   ]
  },
  {
   "cell_type": "code",
   "execution_count": null,
   "id": "5a033082",
   "metadata": {
    "ExecuteTime": {
     "end_time": "2025-03-05T14:12:45.002510Z",
     "start_time": "2025-03-05T14:12:44.998947Z"
    }
   },
   "outputs": [],
   "source": [
    "mp_id = \"mp-8062\"\n",
    "squid_id = \"cellrelaxdft/r67/fd70c16f2adda1e1377b61ccf9dee2d378bec539\""
   ]
  },
  {
   "cell_type": "code",
   "execution_count": null,
   "id": "033cc641",
   "metadata": {
    "ExecuteTime": {
     "end_time": "2025-03-05T14:12:46.336499Z",
     "start_time": "2025-03-05T14:12:46.333544Z"
    }
   },
   "outputs": [],
   "source": [
    "strains = [-0.01,-0.005,0.005,0.01]\n",
    "shears = [-0.02,-0.01,0.01,0.02]"
   ]
  },
  {
   "cell_type": "code",
   "execution_count": null,
   "id": "b09d9581",
   "metadata": {
    "ExecuteTime": {
     "end_time": "2025-03-05T14:12:46.938522Z",
     "start_time": "2025-03-05T14:12:46.934383Z"
    }
   },
   "outputs": [],
   "source": [
    "inputs['mp_id'].value = mp_id\n",
    "inputs['squid_id'].value = squid_id\n",
    "inputs['strains'].value = strains\n",
    "inputs['shears'].value = shears"
   ]
  },
  {
   "cell_type": "code",
   "execution_count": null,
   "id": "5393ec25",
   "metadata": {
    "ExecuteTime": {
     "end_time": "2025-03-05T14:12:48.038177Z",
     "start_time": "2025-03-05T14:12:48.031400Z"
    }
   },
   "outputs": [],
   "source": [
    "inputs"
   ]
  },
  {
   "cell_type": "code",
   "execution_count": null,
   "id": "e7c0a752",
   "metadata": {
    "ExecuteTime": {
     "end_time": "2025-03-05T15:04:18.048980Z",
     "start_time": "2025-03-05T14:12:50.905810Z"
    }
   },
   "outputs": [],
   "source": [
    "r = Run(simToolLocation,inputs)"
   ]
  },
  {
   "cell_type": "code",
   "execution_count": null,
   "id": "fe59c5b3",
   "metadata": {
    "ExecuteTime": {
     "end_time": "2025-03-05T15:15:41.743950Z",
     "start_time": "2025-03-05T15:15:41.723721Z"
    }
   },
   "outputs": [],
   "source": [
    "r.getResultSummary()"
   ]
  },
  {
   "cell_type": "code",
   "execution_count": null,
   "id": "973a93af",
   "metadata": {},
   "outputs": [],
   "source": []
  }
 ],
 "metadata": {
  "kernelspec": {
   "display_name": "Python3.11 (MatProjectPy311)",
   "language": "python",
   "name": "matprojectpy311"
  },
  "language_info": {
   "codemirror_mode": {
    "name": "ipython",
    "version": 3
   },
   "file_extension": ".py",
   "mimetype": "text/x-python",
   "name": "python",
   "nbconvert_exporter": "python",
   "pygments_lexer": "ipython3",
   "version": "3.11.11"
  },
  "toc": {
   "base_numbering": 1,
   "nav_menu": {},
   "number_sections": true,
   "sideBar": true,
   "skip_h1_title": false,
   "title_cell": "Table of Contents",
   "title_sidebar": "Contents",
   "toc_cell": false,
   "toc_position": {},
   "toc_section_display": true,
   "toc_window_display": false
  },
  "varInspector": {
   "cols": {
    "lenName": 16,
    "lenType": 16,
    "lenVar": 40
   },
   "kernels_config": {
    "python": {
     "delete_cmd_postfix": "",
     "delete_cmd_prefix": "del ",
     "library": "var_list.py",
     "varRefreshCmd": "print(var_dic_list())"
    },
    "r": {
     "delete_cmd_postfix": ") ",
     "delete_cmd_prefix": "rm(",
     "library": "var_list.r",
     "varRefreshCmd": "cat(var_dic_list()) "
    }
   },
   "types_to_exclude": [
    "module",
    "function",
    "builtin_function_or_method",
    "instance",
    "_Feature"
   ],
   "window_display": false
  }
 },
 "nbformat": 4,
 "nbformat_minor": 5
}
