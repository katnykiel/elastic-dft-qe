{
 "cells": [
  {
   "cell_type": "code",
   "execution_count": null,
   "id": "669af077",
   "metadata": {
    "ExecuteTime": {
     "end_time": "2024-02-28T16:20:40.877094Z",
     "start_time": "2024-02-28T16:20:26.307871Z"
    }
   },
   "outputs": [],
   "source": [
    "# Import libraries\n",
    "import numpy as np\n",
    "from mp_api.client import MPRester\n",
    "from pymatgen.io.pwscf import PWInput\n",
    "from pymatgen.core import Structure\n",
    "from pymatgen.analysis.elasticity import *\n",
    "from pymatgen.io.vasp.inputs import *\n",
    "from pymatgen.symmetry.analyzer import SpacegroupAnalyzer\n",
    "import os\n",
    "\n",
    "\n",
    "# Import simtool libraries\n",
    "from simtool import findInstalledSimToolNotebooks,searchForSimTool\n",
    "from simtool import getSimToolInputs,getSimToolOutputs,Run\n",
    "\n",
    "# Import helper functions\n",
    "from qe_functions import *"
   ]
  },
  {
   "cell_type": "code",
   "execution_count": null,
   "id": "13dabce8",
   "metadata": {
    "ExecuteTime": {
     "end_time": "2024-02-28T16:20:40.883280Z",
     "start_time": "2024-02-28T16:20:40.880649Z"
    }
   },
   "outputs": [],
   "source": [
    "# Load (or enter when prompted) your API key \n",
    "key = read_key()"
   ]
  },
  {
   "cell_type": "code",
   "execution_count": null,
   "id": "033cc641",
   "metadata": {
    "ExecuteTime": {
     "end_time": "2024-02-28T16:20:40.889826Z",
     "start_time": "2024-02-28T16:20:40.885704Z"
    }
   },
   "outputs": [],
   "source": [
    "mp_id = \"mp-8062\""
   ]
  },
  {
   "cell_type": "code",
   "execution_count": null,
   "id": "6f6b8cb3",
   "metadata": {
    "ExecuteTime": {
     "end_time": "2024-02-28T16:20:42.593350Z",
     "start_time": "2024-02-28T16:20:40.891738Z"
    }
   },
   "outputs": [],
   "source": [
    "# Query using new Materials Project API for a specific ID\n",
    "with MPRester(key, use_document_model=False) as m:\n",
    "    data = m.materials.summary.search(material_ids=[mp_id])"
   ]
  },
  {
   "cell_type": "code",
   "execution_count": null,
   "id": "9d90b395",
   "metadata": {
    "ExecuteTime": {
     "end_time": "2024-02-28T16:20:42.614473Z",
     "start_time": "2024-02-28T16:20:42.595934Z"
    }
   },
   "outputs": [],
   "source": [
    "struct = data[0]['structure']\n",
    "#############################################################################################################\n",
    "# For some systems (ie. monoclinic) we have found using the conventional cell works better than the primitive.\n",
    "# To use the conventional cell uncomment the below lines\n",
    "sga = SpacegroupAnalyzer(struct)\n",
    "struct = sga.get_conventional_standard_structure()\n",
    "#############################################################################################################\n",
    "metal = data[0]['is_metal']\n",
    "n_atoms = struct.num_sites\n",
    "n_atom_types = data[0]['nelements']\n",
    "struct_dict = struct.as_dict()\n",
    "if struct_dict['lattice']['pbc'] == (True, True, True):\n",
    "    del struct_dict['lattice']['pbc']\n",
    "display(struct)"
   ]
  },
  {
   "cell_type": "code",
   "execution_count": null,
   "id": "2db10c00",
   "metadata": {
    "ExecuteTime": {
     "end_time": "2024-02-28T16:20:43.624353Z",
     "start_time": "2024-02-28T16:20:42.618208Z"
    }
   },
   "outputs": [],
   "source": [
    "view_struct(struct)"
   ]
  },
  {
   "cell_type": "code",
   "execution_count": null,
   "id": "aab7bcd0",
   "metadata": {
    "ExecuteTime": {
     "end_time": "2024-02-28T16:20:43.630420Z",
     "start_time": "2024-02-28T16:20:43.627491Z"
    }
   },
   "outputs": [],
   "source": [
    "strains = [-0.01,-0.005,0.005,0.01]\n",
    "shears = [-0.02,-0.01,0.01,0.02]"
   ]
  },
  {
   "cell_type": "code",
   "execution_count": null,
   "id": "3fc30544",
   "metadata": {
    "ExecuteTime": {
     "end_time": "2024-02-28T16:20:43.644116Z",
     "start_time": "2024-02-28T16:20:43.632508Z"
    }
   },
   "outputs": [],
   "source": [
    "# Generate strain matrices\n",
    "strain_matrices = []\n",
    "for ind in [(0, 0), (1, 1), (2, 2)]:\n",
    "    for amount in strains:\n",
    "        strain = Strain.from_index_amount(ind, amount)\n",
    "        strain_matrices.append(np.array(strain))\n",
    "        \n",
    "for ind in [(0, 1), (0, 2), (1, 2)]:\n",
    "    for amount in shears:\n",
    "        strain = Strain.from_index_amount(ind, amount)\n",
    "        strain_matrices.append(np.array(strain))"
   ]
  },
  {
   "cell_type": "code",
   "execution_count": null,
   "id": "35898309",
   "metadata": {
    "ExecuteTime": {
     "end_time": "2024-02-28T16:20:43.655146Z",
     "start_time": "2024-02-28T16:20:43.646408Z"
    }
   },
   "outputs": [],
   "source": [
    "simToolName = \"elasticdft\"\n",
    "simToolLocation = searchForSimTool(simToolName)\n",
    "for key in simToolLocation.keys():\n",
    "    print(\"%18s = %s\" % (key,simToolLocation[key]))"
   ]
  },
  {
   "cell_type": "code",
   "execution_count": null,
   "id": "dca93693",
   "metadata": {
    "ExecuteTime": {
     "end_time": "2024-02-28T16:20:43.661772Z",
     "start_time": "2024-02-28T16:20:43.657462Z"
    }
   },
   "outputs": [],
   "source": [
    "installedSimToolNotebooks = findInstalledSimToolNotebooks(simToolName,returnString=True)\n",
    "print(installedSimToolNotebooks)"
   ]
  },
  {
   "cell_type": "code",
   "execution_count": null,
   "id": "7478d3b3",
   "metadata": {
    "ExecuteTime": {
     "end_time": "2024-02-28T16:20:43.739687Z",
     "start_time": "2024-02-28T16:20:43.663977Z"
    }
   },
   "outputs": [],
   "source": [
    "# get the list of inputs\n",
    "inputs = getSimToolInputs(simToolLocation)\n",
    "print(inputs)"
   ]
  },
  {
   "cell_type": "code",
   "execution_count": null,
   "id": "60933f93",
   "metadata": {
    "ExecuteTime": {
     "end_time": "2024-02-28T16:20:43.750451Z",
     "start_time": "2024-02-28T16:20:43.742056Z"
    }
   },
   "outputs": [],
   "source": [
    "# get the list of outputs\n",
    "outputs = getSimToolOutputs(simToolLocation)\n",
    "print(outputs)"
   ]
  },
  {
   "cell_type": "code",
   "execution_count": null,
   "id": "66cc7886",
   "metadata": {
    "ExecuteTime": {
     "end_time": "2024-02-28T16:20:43.761904Z",
     "start_time": "2024-02-28T16:20:43.752774Z"
    }
   },
   "outputs": [],
   "source": [
    "#### MATERIAL INFORMATION (no need to edit) ####\n",
    "inputs['mp_id'].value = mp_id\n",
    "inputs['structure_dict'].value=struct_dict\n",
    "inputs['num_atoms'].value=n_atoms\n",
    "inputs['n_atom_types'].value=n_atom_types\n",
    "inputs['space_group'].value=struct.get_space_group_info()[1]\n",
    "inputs['is_metal'].value=metal\n",
    "inputs['external_pressure'].value=0.0\n",
    "\n",
    "#### Relaxation Controls ####\n",
    "inputs['KE_cutoff'].value=100\n",
    "inputs['k_x'].value=round((1/struct.lattice.abc[0])*(2*np.pi)/0.22)\n",
    "inputs['k_y'].value=round((1/struct.lattice.abc[1])*(2*np.pi)/0.22)\n",
    "inputs['k_z'].value=round((1/struct.lattice.abc[2])*(2*np.pi)/0.22)\n",
    "inputs['i_steps'].value=50\n",
    "inputs['e_steps'].value=200\n",
    "inputs['scf_conv'].value=1e-10\n",
    "inputs['energy_conv'].value=1e-10\n",
    "inputs['force_conv'].value=1e-5\n",
    "\n",
    "#### Level of Theory Controls ####\n",
    "inputs['vdw_corr'].value='none'\n",
    "inputs['spin_polar'].value=False\n",
    "inputs['pseudo'].value='PAW'\n",
    "\n",
    "#### HUBBARD U CONTROLS ####\n",
    "# inputs['hubbard_U_on'].value=True\n",
    "# inputs['hubbard_projector'].value='ortho-atomic'\n",
    "# inputs['hubbard_U_values'].value={'Mg':2.0,'O':0.0001}\n",
    "# inputs['hubbard_U_orbitals'].value={'Mg':'3s','O':'2p'}\n",
    "\n",
    "#### Strain matrices ####\n",
    "inputs['strain_matrices'].value=np.array(strain_matrices)\n",
    "inputs['sym_red'].value=False"
   ]
  },
  {
   "cell_type": "code",
   "execution_count": null,
   "id": "6b194eda",
   "metadata": {
    "ExecuteTime": {
     "end_time": "2024-02-28T16:20:43.770448Z",
     "start_time": "2024-02-28T16:20:43.764141Z"
    }
   },
   "outputs": [],
   "source": [
    "inputs"
   ]
  },
  {
   "cell_type": "code",
   "execution_count": null,
   "id": "2b38ada1",
   "metadata": {
    "ExecuteTime": {
     "end_time": "2024-02-28T18:30:13.029368Z",
     "start_time": "2024-02-28T16:20:43.772588Z"
    }
   },
   "outputs": [],
   "source": [
    "r = Run(simToolLocation,inputs)"
   ]
  },
  {
   "cell_type": "code",
   "execution_count": null,
   "id": "fe59c5b3",
   "metadata": {
    "ExecuteTime": {
     "end_time": "2024-02-28T18:30:13.047947Z",
     "start_time": "2024-02-28T18:30:13.031935Z"
    }
   },
   "outputs": [],
   "source": [
    "r.getResultSummary()"
   ]
  }
 ],
 "metadata": {
  "kernelspec": {
   "display_name": "Python3 (MatProject)",
   "language": "python",
   "name": "matproject"
  },
  "language_info": {
   "codemirror_mode": {
    "name": "ipython",
    "version": 3
   },
   "file_extension": ".py",
   "mimetype": "text/x-python",
   "name": "python",
   "nbconvert_exporter": "python",
   "pygments_lexer": "ipython3",
   "version": "3.9.18"
  },
  "toc": {
   "base_numbering": 1,
   "nav_menu": {},
   "number_sections": true,
   "sideBar": true,
   "skip_h1_title": false,
   "title_cell": "Table of Contents",
   "title_sidebar": "Contents",
   "toc_cell": false,
   "toc_position": {},
   "toc_section_display": true,
   "toc_window_display": false
  },
  "varInspector": {
   "cols": {
    "lenName": 16,
    "lenType": 16,
    "lenVar": 40
   },
   "kernels_config": {
    "python": {
     "delete_cmd_postfix": "",
     "delete_cmd_prefix": "del ",
     "library": "var_list.py",
     "varRefreshCmd": "print(var_dic_list())"
    },
    "r": {
     "delete_cmd_postfix": ") ",
     "delete_cmd_prefix": "rm(",
     "library": "var_list.r",
     "varRefreshCmd": "cat(var_dic_list()) "
    }
   },
   "types_to_exclude": [
    "module",
    "function",
    "builtin_function_or_method",
    "instance",
    "_Feature"
   ],
   "window_display": false
  }
 },
 "nbformat": 4,
 "nbformat_minor": 5
}
