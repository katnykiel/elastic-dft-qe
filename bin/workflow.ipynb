{
 "cells": [
  {
   "cell_type": "markdown",
   "id": "8d9f4647",
   "metadata": {},
   "source": [
    "\n",
    "<span style=\"font-size:3em;\"> Elastic DFT</span>\n",
    "## Calculating Elastic Constants with Quantum Espresso\n",
    "Developed by Robert J. Appleton, Chukwuma Ezenwata, Ching-Chien Chen, Kat Nykiel, Saswat Mishra, and Alejandro Strachan\n",
    "\n",
    "## Integrating with Cell Relax DFT database\n",
    "In this tool we query relaxed structures from the Cell Relax DFT tool (see [here](https://nanohub.org/tools/cellrelaxdft)), perform deformations based on a set of strain/shear magnitudes, and then compute the corresponding stress tensor using density functional theory (DFT). The DFT code utilized in this tool is [Quantum Espresso](10.1088/0953-8984/21/39/395502) and the calculation parameters are adopted to match the level of theory and convergence criteria used in the relaxation. In order to run this tool on a material, there must exist a relaxation run in the Cell Relax DFT database. \n",
    "\n",
    "## Fitting the Elastic Tensor\n",
    "The elastic tensor is fit using the [pymatgen elasticity package](https://pymatgen.org/pymatgen.analysis.elasticity.html) and specifically the Moore-Penrose pseudo-inverse method.\n"
   ]
  },
  {
   "cell_type": "code",
   "execution_count": null,
   "id": "669af077",
   "metadata": {
    "ExecuteTime": {
     "end_time": "2024-04-10T16:03:27.933704Z",
     "start_time": "2024-04-10T16:03:15.903091Z"
    }
   },
   "outputs": [],
   "source": [
    "# Import simtool libraries\n",
    "from simtool import findInstalledSimToolNotebooks,searchForSimTool\n",
    "from simtool import getSimToolInputs,getSimToolOutputs,Run"
   ]
  },
  {
   "cell_type": "code",
   "execution_count": null,
   "id": "720f0ead",
   "metadata": {
    "ExecuteTime": {
     "end_time": "2024-04-10T16:03:28.036796Z",
     "start_time": "2024-04-10T16:03:27.937639Z"
    }
   },
   "outputs": [],
   "source": [
    "simToolName = \"elasticdft\"\n",
    "simToolLocation = searchForSimTool(simToolName)\n",
    "for key in simToolLocation.keys():\n",
    "    print(\"%18s = %s\" % (key,simToolLocation[key]))"
   ]
  },
  {
   "cell_type": "code",
   "execution_count": null,
   "id": "3f0d0045",
   "metadata": {
    "ExecuteTime": {
     "end_time": "2024-04-10T16:03:28.129473Z",
     "start_time": "2024-04-10T16:03:28.038830Z"
    }
   },
   "outputs": [],
   "source": [
    "installedSimToolNotebooks = findInstalledSimToolNotebooks(simToolName,returnString=True)\n",
    "print(installedSimToolNotebooks)"
   ]
  },
  {
   "cell_type": "code",
   "execution_count": null,
   "id": "26df55c0",
   "metadata": {
    "ExecuteTime": {
     "end_time": "2024-04-10T16:03:28.171170Z",
     "start_time": "2024-04-10T16:03:28.131538Z"
    }
   },
   "outputs": [],
   "source": [
    "# get the list of inputs\n",
    "inputs = getSimToolInputs(simToolLocation)\n",
    "print(inputs)"
   ]
  },
  {
   "cell_type": "code",
   "execution_count": null,
   "id": "19ea34cd",
   "metadata": {
    "ExecuteTime": {
     "end_time": "2024-04-10T16:03:28.199179Z",
     "start_time": "2024-04-10T16:03:28.173441Z"
    }
   },
   "outputs": [],
   "source": [
    "# get the list of outputs\n",
    "outputs = getSimToolOutputs(simToolLocation)\n",
    "print(outputs)"
   ]
  },
  {
   "cell_type": "code",
   "execution_count": null,
   "id": "5a033082",
   "metadata": {
    "ExecuteTime": {
     "end_time": "2024-04-10T16:03:28.206873Z",
     "start_time": "2024-04-10T16:03:28.202203Z"
    }
   },
   "outputs": [],
   "source": [
    "mp_id = \"mp-8062\"\n",
    "squid_id = \"cellrelaxdft/r67/fd70c16f2adda1e1377b61ccf9dee2d378bec539\""
   ]
  },
  {
   "cell_type": "code",
   "execution_count": null,
   "id": "033cc641",
   "metadata": {
    "ExecuteTime": {
     "end_time": "2024-04-10T16:03:28.212385Z",
     "start_time": "2024-04-10T16:03:28.209221Z"
    }
   },
   "outputs": [],
   "source": [
    "strains = [-0.01,-0.005,0.005,0.01]\n",
    "shears = [-0.02,-0.01,0.01,0.02]"
   ]
  },
  {
   "cell_type": "code",
   "execution_count": null,
   "id": "b09d9581",
   "metadata": {
    "ExecuteTime": {
     "end_time": "2024-04-10T16:03:28.217467Z",
     "start_time": "2024-04-10T16:03:28.213917Z"
    }
   },
   "outputs": [],
   "source": [
    "inputs['mp_id'].value = mp_id\n",
    "inputs['squid_id'].value = squid_id\n",
    "inputs['strains'].value = strains\n",
    "inputs['shears'].value = shears"
   ]
  },
  {
   "cell_type": "code",
   "execution_count": null,
   "id": "5393ec25",
   "metadata": {
    "ExecuteTime": {
     "end_time": "2024-04-10T16:03:28.227731Z",
     "start_time": "2024-04-10T16:03:28.219760Z"
    }
   },
   "outputs": [],
   "source": [
    "inputs"
   ]
  },
  {
   "cell_type": "code",
   "execution_count": null,
   "id": "e7c0a752",
   "metadata": {
    "ExecuteTime": {
     "end_time": "2024-04-10T16:52:16.603493Z",
     "start_time": "2024-04-10T16:03:28.229351Z"
    }
   },
   "outputs": [],
   "source": [
    "r = Run(simToolLocation,inputs)"
   ]
  },
  {
   "cell_type": "code",
   "execution_count": null,
   "id": "fe59c5b3",
   "metadata": {
    "ExecuteTime": {
     "end_time": "2024-04-10T16:52:16.620508Z",
     "start_time": "2024-04-10T16:52:16.605320Z"
    }
   },
   "outputs": [],
   "source": [
    "r.getResultSummary()"
   ]
  },
  {
   "cell_type": "code",
   "execution_count": null,
   "id": "973a93af",
   "metadata": {},
   "outputs": [],
   "source": []
  }
 ],
 "metadata": {
  "kernelspec": {
   "display_name": "Python3 (MatProject)",
   "language": "python",
   "name": "matproject"
  },
  "language_info": {
   "codemirror_mode": {
    "name": "ipython",
    "version": 3
   },
   "file_extension": ".py",
   "mimetype": "text/x-python",
   "name": "python",
   "nbconvert_exporter": "python",
   "pygments_lexer": "ipython3",
   "version": "3.9.18"
  },
  "toc": {
   "base_numbering": 1,
   "nav_menu": {},
   "number_sections": true,
   "sideBar": true,
   "skip_h1_title": false,
   "title_cell": "Table of Contents",
   "title_sidebar": "Contents",
   "toc_cell": false,
   "toc_position": {},
   "toc_section_display": true,
   "toc_window_display": false
  },
  "varInspector": {
   "cols": {
    "lenName": 16,
    "lenType": 16,
    "lenVar": 40
   },
   "kernels_config": {
    "python": {
     "delete_cmd_postfix": "",
     "delete_cmd_prefix": "del ",
     "library": "var_list.py",
     "varRefreshCmd": "print(var_dic_list())"
    },
    "r": {
     "delete_cmd_postfix": ") ",
     "delete_cmd_prefix": "rm(",
     "library": "var_list.r",
     "varRefreshCmd": "cat(var_dic_list()) "
    }
   },
   "types_to_exclude": [
    "module",
    "function",
    "builtin_function_or_method",
    "instance",
    "_Feature"
   ],
   "window_display": false
  }
 },
 "nbformat": 4,
 "nbformat_minor": 5
}
